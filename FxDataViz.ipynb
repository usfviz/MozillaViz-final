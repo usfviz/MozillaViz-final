{
 "cells": [
  {
   "cell_type": "code",
   "execution_count": 1,
   "metadata": {
    "collapsed": true
   },
   "outputs": [],
   "source": [
    "from datetime import date, timedelta, datetime\n",
    "\n",
    "def int2date(n):\n",
    "    \"\"\"\n",
    "    This function converts a number of days since Jan 1st 1970 <n> to a date.\n",
    "    \"\"\"\n",
    "    return date(1970,1,1)+timedelta(days=n)\n",
    "\n",
    "def date2int(d):\n",
    "    \"\"\"\n",
    "    This function converts a date <d> to number of days since Jan 1st 1970.\n",
    "    \"\"\"\n",
    "    return (d-date(1970,1,1)).days\n",
    "\n",
    "def str2date(s, f=\"%Y%m%d\"):\n",
    "    \"\"\"\n",
    "    This function converts a string <s> in the format <f> to a date.\n",
    "    \"\"\"\n",
    "    return datetime.strptime(s, f).date()"
   ]
  },
  {
   "cell_type": "code",
   "execution_count": 2,
   "metadata": {
    "collapsed": true
   },
   "outputs": [],
   "source": [
    "#TODAY_INT = date2int(date.today())                        # today (day notebook is run) as days since Jan 1st, 1970\n",
    "PCD_CUTOUT_START_INT = date2int(date(2010, 1, 1))  # profiles created before this date are removed (days since Jan 1st, 1970)\n",
    "SD_CUTOUT_START_STR = \"20160801\"                        # pings submitted before this date are removed\n",
    "SD_CUTOUT_END_STR = \"20161231\"                        # pings submitted before this date are removed"
   ]
  },
  {
   "cell_type": "code",
   "execution_count": 7,
   "metadata": {
    "collapsed": true
   },
   "outputs": [],
   "source": [
    "# connect to the main_summary dataset\n",
    "allPingsDF = sqlContext.read.load(\"s3://telemetry-parquet/main_summary/v3\", \"parquet\", mergeSchema=True)\n",
    "\n",
    "# perform variable selection with column renaming\n",
    "allPingsDFSelect = allPingsDF.select(\n",
    "           allPingsDF.client_id.alias(\"cid\"),\n",
    "           allPingsDF.sample_id.alias(\"sid\"),\n",
    "           allPingsDF.normalized_channel.alias(\"channel\"),\n",
    "           allPingsDF.submission_date_s3.alias(\"sd\"),\n",
    "           allPingsDF.app_name.alias(\"appname\"),\n",
    "           allPingsDF.app_version[:2].alias(\"appversion\"),\n",
    "           allPingsDF.country,\n",
    "           allPingsDF.city)"
   ]
  },
  {
   "cell_type": "code",
   "execution_count": 8,
   "metadata": {
    "collapsed": false
   },
   "outputs": [],
   "source": [
    "# filter, replace missing values with zeroes, and cache dataframe\n",
    "# - 1% sample (sample_id is 42)\n",
    "# - channel is release\n",
    "# - application is Firefox\n",
    "# - data was submitted since July 2016 (previous data may be missing information)\n",
    "# Dataframe is `cache`d to memory for performance improvements\n",
    "filteredPingsDF = allPingsDFSelect.filter(allPingsDFSelect.sid == \"42\")\\\n",
    "                                  .filter(allPingsDFSelect.channel == \"release\")\\\n",
    "                                  .filter(allPingsDFSelect.appname == \"Firefox\")\\\n",
    "                                  .filter(allPingsDFSelect.country == \"DE\")\\\n",
    "                                  .filter(allPingsDFSelect.sd >= SD_CUTOUT_START_STR)\\\n",
    "                                  .filter(allPingsDFSelect.sd <= SD_CUTOUT_END_STR)\\\n",
    "                                  .select([\"cid\", \"city\", \"sd\", \"appversion\"])"
   ]
  },
  {
   "cell_type": "code",
   "execution_count": 9,
   "metadata": {
    "collapsed": false
   },
   "outputs": [
    {
     "data": {
      "text/plain": [
       "[Row(cid=u'3ed8fd6b-d256-499b-a469-f6ead5da6a03', city=u'Heidelberg', sd=u'20161017', appversion=u'49'),\n",
       " Row(cid=u'077cdecd-cc71-412e-a8fe-fcd857aeea16', city=u'Meschede', sd=u'20161017', appversion=u'49'),\n",
       " Row(cid=u'bebcc4c4-43f0-4f44-abfe-1d0805154f9c', city=u'Andechs', sd=u'20161017', appversion=u'49'),\n",
       " Row(cid=u'b80fbb53-02c8-43e5-9bf4-875499f2f6a1', city=u'Dortmund', sd=u'20161017', appversion=u'49'),\n",
       " Row(cid=u'b80fbb53-02c8-43e5-9bf4-875499f2f6a1', city=u'Dortmund', sd=u'20161017', appversion=u'49')]"
      ]
     },
     "execution_count": 9,
     "metadata": {},
     "output_type": "execute_result"
    }
   ],
   "source": [
    "filteredPingsDF.take(5)"
   ]
  },
  {
   "cell_type": "code",
   "execution_count": 10,
   "metadata": {
    "collapsed": true
   },
   "outputs": [],
   "source": [
    "sqlContext.registerDataFrameAsTable(filteredPingsDF, \"filteredPingsDF\")"
   ]
  },
  {
   "cell_type": "code",
   "execution_count": 16,
   "metadata": {
    "collapsed": true
   },
   "outputs": [],
   "source": [
    "query = \"\"\"\n",
    "    SELECT city, to_date(CAST(UNIX_TIMESTAMP(sd, 'yyyyMMdd') AS TIMESTAMP)) AS sd, appversion, count(distinct cid)\n",
    "    FROM filteredPingsDF\n",
    "    GROUP BY 1, 2, 3\n",
    "    ORDER BY 1, 2, 3\n",
    "    \"\"\"\n",
    "aggregateDF = sqlContext.sql(query).cache()"
   ]
  },
  {
   "cell_type": "code",
   "execution_count": 17,
   "metadata": {
    "collapsed": false
   },
   "outputs": [
    {
     "name": "stdout",
     "output_type": "stream",
     "text": [
      "+----+----------+----------+-------------------+\n",
      "|city|        sd|appversion|count(DISTINCT cid)|\n",
      "+----+----------+----------+-------------------+\n",
      "|  ??|2016-08-01|        40|                  1|\n",
      "|  ??|2016-08-01|        41|                 64|\n",
      "|  ??|2016-08-01|        42|                143|\n",
      "|  ??|2016-08-01|        43|                305|\n",
      "|  ??|2016-08-01|        44|                165|\n",
      "|  ??|2016-08-01|        45|                220|\n",
      "|  ??|2016-08-01|        46|                278|\n",
      "|  ??|2016-08-01|        47|               8938|\n",
      "|  ??|2016-08-02|        40|                  2|\n",
      "|  ??|2016-08-02|        41|                 63|\n",
      "|  ??|2016-08-02|        42|                146|\n",
      "|  ??|2016-08-02|        43|                291|\n",
      "|  ??|2016-08-02|        44|                181|\n",
      "|  ??|2016-08-02|        45|                226|\n",
      "|  ??|2016-08-02|        46|                280|\n",
      "|  ??|2016-08-02|        47|               8991|\n",
      "|  ??|2016-08-02|        48|                 58|\n",
      "|  ??|2016-08-03|        41|                 57|\n",
      "|  ??|2016-08-03|        42|                147|\n",
      "|  ??|2016-08-03|        43|                258|\n",
      "+----+----------+----------+-------------------+\n",
      "only showing top 20 rows\n",
      "\n"
     ]
    }
   ],
   "source": [
    "aggregateDF.show()"
   ]
  },
  {
   "cell_type": "code",
   "execution_count": 15,
   "metadata": {
    "collapsed": false
   },
   "outputs": [
    {
     "data": {
      "text/plain": [
       "1600531"
      ]
     },
     "execution_count": 15,
     "metadata": {},
     "output_type": "execute_result"
    }
   ],
   "source": [
    "aggregateDF.count() #1,600,531"
   ]
  },
  {
   "cell_type": "code",
   "execution_count": 18,
   "metadata": {
    "collapsed": true
   },
   "outputs": [],
   "source": [
    "aggregatePD = aggregateDF.toPandas()"
   ]
  },
  {
   "cell_type": "code",
   "execution_count": 20,
   "metadata": {
    "collapsed": false
   },
   "outputs": [],
   "source": [
    "aggregatePD.to_csv(\"FxDataViz.csv\", index=False, encoding='utf-8')"
   ]
  },
  {
   "cell_type": "code",
   "execution_count": null,
   "metadata": {
    "collapsed": true
   },
   "outputs": [],
   "source": []
  }
 ],
 "metadata": {
  "anaconda-cloud": {},
  "kernelspec": {
   "display_name": "Python [conda root]",
   "language": "python",
   "name": "conda-root-py"
  },
  "language_info": {
   "codemirror_mode": {
    "name": "ipython",
    "version": 2
   },
   "file_extension": ".py",
   "mimetype": "text/x-python",
   "name": "python",
   "nbconvert_exporter": "python",
   "pygments_lexer": "ipython2",
   "version": "2.7.12"
  }
 },
 "nbformat": 4,
 "nbformat_minor": 1
}
